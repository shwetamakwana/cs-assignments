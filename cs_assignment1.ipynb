{
  "nbformat": 4,
  "nbformat_minor": 0,
  "metadata": {
    "colab": {
      "name": "cs_assignment1.ipynb",
      "provenance": [],
      "authorship_tag": "ABX9TyNFoxWN1EknWtPTxnQ7BUMl",
      "include_colab_link": true
    },
    "kernelspec": {
      "name": "python3",
      "display_name": "Python 3"
    }
  },
  "cells": [
    {
      "cell_type": "markdown",
      "metadata": {
        "id": "view-in-github",
        "colab_type": "text"
      },
      "source": [
        "<a href=\"https://colab.research.google.com/github/shwetamakwana/cs-assignments/blob/master/cs_assignment1.ipynb\" target=\"_parent\"><img src=\"https://colab.research.google.com/assets/colab-badge.svg\" alt=\"Open In Colab\"/></a>"
      ]
    },
    {
      "cell_type": "code",
      "metadata": {
        "id": "p1bBOWZayqp3",
        "colab_type": "code",
        "colab": {
          "base_uri": "https://localhost:8080/",
          "height": 54
        },
        "outputId": "79c67360-7a40-4190-9e7c-9a83f2752bcc"
      },
      "source": [
        "#question1 A program to get a user input in the form of list data type.return the list by removing all the duplicates.\n",
        "lst=eval(input('enter list :'))\n",
        "lst=list(set(lst))\n",
        "lst.sort()\n",
        "print(lst)"
      ],
      "execution_count": 18,
      "outputs": [
        {
          "output_type": "stream",
          "text": [
            "enter list :[4,4,5,6,8,4,5]\n",
            "[4, 5, 6, 8]\n"
          ],
          "name": "stdout"
        }
      ]
    },
    {
      "cell_type": "code",
      "metadata": {
        "id": "SiH5Wif23zKV",
        "colab_type": "code",
        "colab": {
          "base_uri": "https://localhost:8080/",
          "height": 90
        },
        "outputId": "beb3c924-a51e-45d5-e876-478013f5f74c"
      },
      "source": [
        "#question2 user defined tuple with 'int' data type.\n",
        "t=(7,6,8,3)\n",
        "print(sum(t))\n",
        "print(len(t))\n",
        "print(max(t))\n",
        "print(min(t))\n",
        "\n"
      ],
      "execution_count": 55,
      "outputs": [
        {
          "output_type": "stream",
          "text": [
            "24\n",
            "4\n",
            "8\n",
            "3\n"
          ],
          "name": "stdout"
        }
      ]
    },
    {
      "cell_type": "code",
      "metadata": {
        "id": "0exQIHhJ5jUa",
        "colab_type": "code",
        "colab": {
          "base_uri": "https://localhost:8080/",
          "height": 72
        },
        "outputId": "89403303-3497-4ee2-c84f-0c472bc1ba4e"
      },
      "source": [
        "#question3 given a number and ith bit , change ith bit of that number to 1\n",
        "num=int(input('num : '))\n",
        "i=int(input('i ='))\n",
        "mag_num= 12\n",
        "print(bit)\n",
        "\n"
      ],
      "execution_count": 67,
      "outputs": [
        {
          "output_type": "stream",
          "text": [
            "num : 13\n",
            "i =1\n",
            "1\n"
          ],
          "name": "stdout"
        }
      ]
    },
    {
      "cell_type": "code",
      "metadata": {
        "id": "riDKOdIk9Wzx",
        "colab_type": "code",
        "colab": {}
      },
      "source": [
        "#quetion4 given a number ,print 1 if the number is odd otherwise 0\n",
        "\n",
        "num=int(input('enter a number :')) \n",
        "if(num%2==0):\n",
        "  print(num,'is even number')\n",
        "  else:\n",
        "    print(num,'is odd number')\n",
        "\n",
        "\n",
        "\n",
        "\n",
        "\n",
        "0\n"
      ],
      "execution_count": 0,
      "outputs": []
    },
    {
      "cell_type": "code",
      "metadata": {
        "id": "nwnp8lBA9aj-",
        "colab_type": "code",
        "colab": {
          "base_uri": "https://localhost:8080/",
          "height": 54
        },
        "outputId": "dfc99467-38e1-4162-98b1-506559241ce3"
      },
      "source": [
        "#question5 given a list of integers A and B ,and merge them into single list in ascending order.\n",
        "A=[2,4,6,3]\n",
        "B=[1,3,5,2]\n",
        "C=A+B\n",
        "print(C)\n",
        "C.sort()\n",
        "print(C)\n",
        "\n",
        "\n"
      ],
      "execution_count": 44,
      "outputs": [
        {
          "output_type": "stream",
          "text": [
            "[2, 4, 6, 3, 1, 3, 5, 2]\n",
            "[1, 2, 2, 3, 3, 4, 5, 6]\n"
          ],
          "name": "stdout"
        }
      ]
    },
    {
      "cell_type": "code",
      "metadata": {
        "id": "gyilpdSP_jhb",
        "colab_type": "code",
        "colab": {
          "base_uri": "https://localhost:8080/",
          "height": 35
        },
        "outputId": "be192d25-c042-4b7b-8056-99c07dbd1fe1"
      },
      "source": [
        "#question6 dictonary to store name and marks of 5 students. sort the dictionary according to marks .\n",
        "dic={70:'berlin',0:'oslo',50:'moscow',100:'nairobi'}\n",
        "for s in sorted(dic):\n",
        "  print(s,':',dic[s],end=',')\n",
        "  \n",
        "\n",
        "  \n",
        "  \n",
        "\n",
        "  \n"
      ],
      "execution_count": 104,
      "outputs": [
        {
          "output_type": "stream",
          "text": [
            "0 : oslo,50 : moscow,70 : berlin,100 : nairobi,"
          ],
          "name": "stdout"
        }
      ]
    },
    {
      "cell_type": "code",
      "metadata": {
        "id": "mCmNVqhq4rc1",
        "colab_type": "code",
        "colab": {}
      },
      "source": [
        ""
      ],
      "execution_count": 0,
      "outputs": []
    }
  ]
}